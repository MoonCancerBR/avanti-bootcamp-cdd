{
 "cells": [
  {
   "cell_type": "markdown",
   "metadata": {},
   "source": [
    "# Análise exploratória de dados"
   ]
  },
  {
   "cell_type": "code",
   "execution_count": 1,
   "metadata": {
    "tags": []
   },
   "outputs": [],
   "source": [
    "from IPython.display import display, Markdown\n",
    "import numpy as np\n",
    "import pandas as pd\n",
    "import matplotlib.pyplot as plt\n",
    "import seaborn as sns\n",
    "\n",
    "\n",
    "colors = [\"#9467bd\", \"#057476\", \"#FF7A00\"]\n",
    "# sns.set_style(\"whitegrid\")\n",
    "sns.set_theme(style=\"ticks\")\n",
    "sns.set_palette(sns.color_palette(colors))"
   ]
  },
  {
   "cell_type": "markdown",
   "metadata": {
    "tags": []
   },
   "source": [
    "## 1. Leitura do conjuto de dados"
   ]
  },
  {
   "cell_type": "code",
   "execution_count": 2,
   "metadata": {
    "tags": []
   },
   "outputs": [
    {
     "data": {
      "text/html": [
       "<div>\n",
       "<style scoped>\n",
       "    .dataframe tbody tr th:only-of-type {\n",
       "        vertical-align: middle;\n",
       "    }\n",
       "\n",
       "    .dataframe tbody tr th {\n",
       "        vertical-align: top;\n",
       "    }\n",
       "\n",
       "    .dataframe thead th {\n",
       "        text-align: right;\n",
       "    }\n",
       "</style>\n",
       "<table border=\"1\" class=\"dataframe\">\n",
       "  <thead>\n",
       "    <tr style=\"text-align: right;\">\n",
       "      <th></th>\n",
       "      <th>total_bill</th>\n",
       "      <th>tip</th>\n",
       "      <th>sex</th>\n",
       "      <th>smoker</th>\n",
       "      <th>day</th>\n",
       "      <th>time</th>\n",
       "      <th>size</th>\n",
       "    </tr>\n",
       "  </thead>\n",
       "  <tbody>\n",
       "    <tr>\n",
       "      <th>0</th>\n",
       "      <td>16.99</td>\n",
       "      <td>1.01</td>\n",
       "      <td>Female</td>\n",
       "      <td>No</td>\n",
       "      <td>Sun</td>\n",
       "      <td>Dinner</td>\n",
       "      <td>2</td>\n",
       "    </tr>\n",
       "    <tr>\n",
       "      <th>1</th>\n",
       "      <td>10.34</td>\n",
       "      <td>1.66</td>\n",
       "      <td>Male</td>\n",
       "      <td>No</td>\n",
       "      <td>Sun</td>\n",
       "      <td>Dinner</td>\n",
       "      <td>3</td>\n",
       "    </tr>\n",
       "    <tr>\n",
       "      <th>2</th>\n",
       "      <td>21.01</td>\n",
       "      <td>3.50</td>\n",
       "      <td>Male</td>\n",
       "      <td>No</td>\n",
       "      <td>Sun</td>\n",
       "      <td>Dinner</td>\n",
       "      <td>3</td>\n",
       "    </tr>\n",
       "    <tr>\n",
       "      <th>3</th>\n",
       "      <td>23.68</td>\n",
       "      <td>3.31</td>\n",
       "      <td>Male</td>\n",
       "      <td>No</td>\n",
       "      <td>Sun</td>\n",
       "      <td>Dinner</td>\n",
       "      <td>2</td>\n",
       "    </tr>\n",
       "    <tr>\n",
       "      <th>4</th>\n",
       "      <td>24.59</td>\n",
       "      <td>3.61</td>\n",
       "      <td>Female</td>\n",
       "      <td>No</td>\n",
       "      <td>Sun</td>\n",
       "      <td>Dinner</td>\n",
       "      <td>4</td>\n",
       "    </tr>\n",
       "  </tbody>\n",
       "</table>\n",
       "</div>"
      ],
      "text/plain": [
       "   total_bill   tip     sex smoker  day    time  size\n",
       "0       16.99  1.01  Female     No  Sun  Dinner     2\n",
       "1       10.34  1.66    Male     No  Sun  Dinner     3\n",
       "2       21.01  3.50    Male     No  Sun  Dinner     3\n",
       "3       23.68  3.31    Male     No  Sun  Dinner     2\n",
       "4       24.59  3.61  Female     No  Sun  Dinner     4"
      ]
     },
     "execution_count": 2,
     "metadata": {},
     "output_type": "execute_result"
    }
   ],
   "source": [
    "df = pd.read_csv('../data/raw/data.csv')\n",
    "df.head()"
   ]
  },
  {
   "cell_type": "markdown",
   "metadata": {
    "tags": []
   },
   "source": [
    "## 2. Descrição dos dados"
   ]
  },
  {
   "cell_type": "markdown",
   "metadata": {
    "tags": []
   },
   "source": [
    "![Minha Imagem](gorjeta.jpg)"
   ]
  },
  {
   "cell_type": "markdown",
   "metadata": {},
   "source": [
    "**\"tips: Tipping data\"** é um conjunto de dados com informações registradas por um garçom sobre cada gorjeta que recebeu durante alguns meses trabalhando em um restaurante.\n",
    "Tal conjunto de dados pode ser utilizado em tarefas de aprendizado de máquina supervisionado em tarefas de classificação, sendo `tips`, a variável dependente e o restante utilizado como variáveis preditoras."
   ]
  },
  {
   "cell_type": "markdown",
   "metadata": {
    "tags": []
   },
   "source": [
    "## 2.1 Dicionário de dados"
   ]
  },
  {
   "cell_type": "code",
   "execution_count": 3,
   "metadata": {},
   "outputs": [
    {
     "data": {
      "text/html": [
       "<div>\n",
       "<style scoped>\n",
       "    .dataframe tbody tr th:only-of-type {\n",
       "        vertical-align: middle;\n",
       "    }\n",
       "\n",
       "    .dataframe tbody tr th {\n",
       "        vertical-align: top;\n",
       "    }\n",
       "\n",
       "    .dataframe thead th {\n",
       "        text-align: right;\n",
       "    }\n",
       "</style>\n",
       "<table border=\"1\" class=\"dataframe\">\n",
       "  <thead>\n",
       "    <tr style=\"text-align: right;\">\n",
       "      <th></th>\n",
       "      <th>variable</th>\n",
       "      <th>description</th>\n",
       "      <th>type</th>\n",
       "      <th>subtype</th>\n",
       "    </tr>\n",
       "  </thead>\n",
       "  <tbody>\n",
       "    <tr>\n",
       "      <th>0</th>\n",
       "      <td>total_bill</td>\n",
       "      <td>total da conta</td>\n",
       "      <td>quantitativo</td>\n",
       "      <td>contínuo</td>\n",
       "    </tr>\n",
       "    <tr>\n",
       "      <th>1</th>\n",
       "      <td>tip</td>\n",
       "      <td>valor da gorjeta</td>\n",
       "      <td>quantitativo</td>\n",
       "      <td>contínuo</td>\n",
       "    </tr>\n",
       "    <tr>\n",
       "      <th>2</th>\n",
       "      <td>sex</td>\n",
       "      <td>sexo do pagador</td>\n",
       "      <td>qualitativo</td>\n",
       "      <td>nominal</td>\n",
       "    </tr>\n",
       "    <tr>\n",
       "      <th>3</th>\n",
       "      <td>smoker</td>\n",
       "      <td>há fumantes ?</td>\n",
       "      <td>qualitativo</td>\n",
       "      <td>nominal</td>\n",
       "    </tr>\n",
       "    <tr>\n",
       "      <th>4</th>\n",
       "      <td>day</td>\n",
       "      <td>dia da semana</td>\n",
       "      <td>qualitativo</td>\n",
       "      <td>ordinal</td>\n",
       "    </tr>\n",
       "    <tr>\n",
       "      <th>5</th>\n",
       "      <td>time</td>\n",
       "      <td>horário do dia</td>\n",
       "      <td>qualitativo</td>\n",
       "      <td>nominal</td>\n",
       "    </tr>\n",
       "    <tr>\n",
       "      <th>6</th>\n",
       "      <td>size</td>\n",
       "      <td>tamanho do grupo</td>\n",
       "      <td>quantitativo</td>\n",
       "      <td>discreto</td>\n",
       "    </tr>\n",
       "  </tbody>\n",
       "</table>\n",
       "</div>"
      ],
      "text/plain": [
       "     variable       description          type   subtype\n",
       "0  total_bill    total da conta  quantitativo  contínuo\n",
       "1         tip  valor da gorjeta  quantitativo  contínuo\n",
       "2         sex   sexo do pagador   qualitativo   nominal\n",
       "3      smoker     há fumantes ?   qualitativo   nominal\n",
       "4         day     dia da semana   qualitativo   ordinal\n",
       "5        time    horário do dia   qualitativo   nominal\n",
       "6        size  tamanho do grupo  quantitativo  discreto"
      ]
     },
     "execution_count": 3,
     "metadata": {},
     "output_type": "execute_result"
    }
   ],
   "source": [
    "dicionario = pd.read_csv('../data/external/dictonary.csv')\n",
    "dicionario"
   ]
  },
  {
   "cell_type": "markdown",
   "metadata": {},
   "source": [
    "_______________________________________________________________________________________________________\n",
    "\n",
    "-São 7 variaveis no total, sendo 2 quantitativos continuos e 1 discreto, 3 qualitativos nominais e 1 ordinal\n",
    "\n",
    "_______________________________________________________________________________________________________"
   ]
  },
  {
   "cell_type": "markdown",
   "metadata": {},
   "source": [
    "## 3. Perguntas de partida e hipóteses"
   ]
  },
  {
   "cell_type": "markdown",
   "metadata": {},
   "source": [
    "- Existem dados faltantes, se sim quantos e em quais variáveis?\n",
    "- Qual a distribuição dos dados (variável por variável)?\n",
    "- Existe alguma relação entre o sexo, espécie e as características físicas dos pinguins?\n",
    "- Existe alguma relação entre a ilha, espécie e as características físicas dos pinguins?\n",
    "- Existem correlações entre estas características físicas?"
   ]
  },
  {
   "cell_type": "markdown",
   "metadata": {},
   "source": [
    "## Existem dados faltantes, se sim quantos e em quais variáveis?"
   ]
  },
  {
   "cell_type": "code",
   "execution_count": 4,
   "metadata": {},
   "outputs": [
    {
     "data": {
      "text/plain": [
       "Series([], dtype: int64)"
      ]
     },
     "metadata": {},
     "output_type": "display_data"
    },
    {
     "data": {
      "text/markdown": [
       "---\n",
       "A partir dessa informação sabemos que as variáveis `[]`contém valores faltantes. Além disso sabemos que temos `0` linhas com valores faltantes.As próximas análises aqui serão realizadas sem considerar os dados faltantes\n",
       "\n",
       " ---"
      ],
      "text/plain": [
       "<IPython.core.display.Markdown object>"
      ]
     },
     "metadata": {},
     "output_type": "display_data"
    }
   ],
   "source": [
    "# colunas (variáveis) contendo valores valtantes\n",
    "number_of_na_by_column = df.isnull().sum().loc[lambda x: x > 0]\n",
    "number_of_na_rows = df.isnull().any(axis=1).sum()\n",
    "\n",
    "display(number_of_na_by_column)\n",
    "display(Markdown(\n",
    "    \"---\\n\"\n",
    "    f\"A partir dessa informação sabemos que as variáveis `{number_of_na_by_column.axes[0].to_list()}`\"\n",
    "    f\"contém valores faltantes. Além disso sabemos que temos `{number_of_na_rows}` linhas com valores faltantes.\"\n",
    "    \"As próximas análises aqui serão realizadas sem considerar os dados faltantes\"\n",
    "    \"\\n\\n ---\"\n",
    "))\n",
    "\n",
    "df.dropna(inplace=True)"
   ]
  },
  {
   "cell_type": "markdown",
   "metadata": {},
   "source": [
    "## Qual a distribuição dos dados (variável por variável)?"
   ]
  },
  {
   "cell_type": "markdown",
   "metadata": {},
   "source": [
    "Iniciaremos com as estatísticas descritivas e posteriormente com visualizações das distribuições."
   ]
  },
  {
   "cell_type": "code",
   "execution_count": 5,
   "metadata": {},
   "outputs": [
    {
     "data": {
      "text/html": [
       "<div>\n",
       "<style scoped>\n",
       "    .dataframe tbody tr th:only-of-type {\n",
       "        vertical-align: middle;\n",
       "    }\n",
       "\n",
       "    .dataframe tbody tr th {\n",
       "        vertical-align: top;\n",
       "    }\n",
       "\n",
       "    .dataframe thead th {\n",
       "        text-align: right;\n",
       "    }\n",
       "</style>\n",
       "<table border=\"1\" class=\"dataframe\">\n",
       "  <thead>\n",
       "    <tr style=\"text-align: right;\">\n",
       "      <th></th>\n",
       "      <th>total_bill</th>\n",
       "      <th>tip</th>\n",
       "      <th>sex</th>\n",
       "      <th>smoker</th>\n",
       "      <th>day</th>\n",
       "      <th>time</th>\n",
       "      <th>size</th>\n",
       "    </tr>\n",
       "  </thead>\n",
       "  <tbody>\n",
       "    <tr>\n",
       "      <th>count</th>\n",
       "      <td>244.000000</td>\n",
       "      <td>244.000000</td>\n",
       "      <td>244</td>\n",
       "      <td>244</td>\n",
       "      <td>244</td>\n",
       "      <td>244</td>\n",
       "      <td>244.000000</td>\n",
       "    </tr>\n",
       "    <tr>\n",
       "      <th>unique</th>\n",
       "      <td>NaN</td>\n",
       "      <td>NaN</td>\n",
       "      <td>2</td>\n",
       "      <td>2</td>\n",
       "      <td>4</td>\n",
       "      <td>2</td>\n",
       "      <td>NaN</td>\n",
       "    </tr>\n",
       "    <tr>\n",
       "      <th>top</th>\n",
       "      <td>NaN</td>\n",
       "      <td>NaN</td>\n",
       "      <td>Male</td>\n",
       "      <td>No</td>\n",
       "      <td>Sat</td>\n",
       "      <td>Dinner</td>\n",
       "      <td>NaN</td>\n",
       "    </tr>\n",
       "    <tr>\n",
       "      <th>freq</th>\n",
       "      <td>NaN</td>\n",
       "      <td>NaN</td>\n",
       "      <td>157</td>\n",
       "      <td>151</td>\n",
       "      <td>87</td>\n",
       "      <td>176</td>\n",
       "      <td>NaN</td>\n",
       "    </tr>\n",
       "    <tr>\n",
       "      <th>mean</th>\n",
       "      <td>19.785943</td>\n",
       "      <td>2.998279</td>\n",
       "      <td>NaN</td>\n",
       "      <td>NaN</td>\n",
       "      <td>NaN</td>\n",
       "      <td>NaN</td>\n",
       "      <td>2.569672</td>\n",
       "    </tr>\n",
       "    <tr>\n",
       "      <th>std</th>\n",
       "      <td>8.902412</td>\n",
       "      <td>1.383638</td>\n",
       "      <td>NaN</td>\n",
       "      <td>NaN</td>\n",
       "      <td>NaN</td>\n",
       "      <td>NaN</td>\n",
       "      <td>0.951100</td>\n",
       "    </tr>\n",
       "    <tr>\n",
       "      <th>min</th>\n",
       "      <td>3.070000</td>\n",
       "      <td>1.000000</td>\n",
       "      <td>NaN</td>\n",
       "      <td>NaN</td>\n",
       "      <td>NaN</td>\n",
       "      <td>NaN</td>\n",
       "      <td>1.000000</td>\n",
       "    </tr>\n",
       "    <tr>\n",
       "      <th>25%</th>\n",
       "      <td>13.347500</td>\n",
       "      <td>2.000000</td>\n",
       "      <td>NaN</td>\n",
       "      <td>NaN</td>\n",
       "      <td>NaN</td>\n",
       "      <td>NaN</td>\n",
       "      <td>2.000000</td>\n",
       "    </tr>\n",
       "    <tr>\n",
       "      <th>50%</th>\n",
       "      <td>17.795000</td>\n",
       "      <td>2.900000</td>\n",
       "      <td>NaN</td>\n",
       "      <td>NaN</td>\n",
       "      <td>NaN</td>\n",
       "      <td>NaN</td>\n",
       "      <td>2.000000</td>\n",
       "    </tr>\n",
       "    <tr>\n",
       "      <th>75%</th>\n",
       "      <td>24.127500</td>\n",
       "      <td>3.562500</td>\n",
       "      <td>NaN</td>\n",
       "      <td>NaN</td>\n",
       "      <td>NaN</td>\n",
       "      <td>NaN</td>\n",
       "      <td>3.000000</td>\n",
       "    </tr>\n",
       "    <tr>\n",
       "      <th>max</th>\n",
       "      <td>50.810000</td>\n",
       "      <td>10.000000</td>\n",
       "      <td>NaN</td>\n",
       "      <td>NaN</td>\n",
       "      <td>NaN</td>\n",
       "      <td>NaN</td>\n",
       "      <td>6.000000</td>\n",
       "    </tr>\n",
       "  </tbody>\n",
       "</table>\n",
       "</div>"
      ],
      "text/plain": [
       "        total_bill         tip   sex smoker  day    time        size\n",
       "count   244.000000  244.000000   244    244  244     244  244.000000\n",
       "unique         NaN         NaN     2      2    4       2         NaN\n",
       "top            NaN         NaN  Male     No  Sat  Dinner         NaN\n",
       "freq           NaN         NaN   157    151   87     176         NaN\n",
       "mean     19.785943    2.998279   NaN    NaN  NaN     NaN    2.569672\n",
       "std       8.902412    1.383638   NaN    NaN  NaN     NaN    0.951100\n",
       "min       3.070000    1.000000   NaN    NaN  NaN     NaN    1.000000\n",
       "25%      13.347500    2.000000   NaN    NaN  NaN     NaN    2.000000\n",
       "50%      17.795000    2.900000   NaN    NaN  NaN     NaN    2.000000\n",
       "75%      24.127500    3.562500   NaN    NaN  NaN     NaN    3.000000\n",
       "max      50.810000   10.000000   NaN    NaN  NaN     NaN    6.000000"
      ]
     },
     "execution_count": 5,
     "metadata": {},
     "output_type": "execute_result"
    }
   ],
   "source": [
    "df.describe(include='all')"
   ]
  },
  {
   "cell_type": "markdown",
   "metadata": {},
   "source": [
    "_______________________________________________________________________________________________________\n",
    "\n",
    "Através dos dados oferecidos, sabemos que:\n",
    "\n",
    "- 244 registros, 157 são do sexo Masculino.\n",
    "- A maioria das transações ocorrem no jantar, 176 dos casos.\n",
    "- O dia da semana mais comum, com 87 dos registros ocorrem no Sábado.\n",
    "- Os \"não fumantes\" representam a maioria, com presença de 151 dos registros.\n",
    "- O tamanho dos grupos variam entre 1 até 6 pessoas, com uma média de 2.5, o qual sugere que grande parte das pessoas frequentam o restaurante em sua grande maioria em duplas ou trios.\n",
    "- *Os Valores totais da refeição em dólares variam entre: `US$ 3,00` a `US$ 50,00`*\n",
    "- As gorjetas variam entre `US$ 1,00` a `US$ 10,00`, tendo uma mediana `US$ 2,90`\n",
    "_______________________________________________________________________________________________________"
   ]
  },
  {
   "cell_type": "markdown",
   "metadata": {},
   "source": [
    "Distribuição das váriaveis qualitativas:"
   ]
  },
  {
   "cell_type": "code",
   "execution_count": 6,
   "metadata": {},
   "outputs": [
    {
     "data": {
      "image/png": "[encoded data removed]",
      "text/plain": [
       "<Figure size 1600x300 with 4 Axes>"
      ]
     },
     "metadata": {},
     "output_type": "display_data"
    }
   ],
   "source": [
    "import matplotlib.pyplot as plt\n",
    "import seaborn as sns\n",
    "\n",
    "# Supondo que 'df', 'dicionario' e 'colors' já estejam definidos\n",
    "qualitative_vars = dicionario.query(\"type == 'qualitativo'\").variable.to_list()\n",
    "num_vars = len(qualitative_vars)\n",
    "\n",
    "# Ajuste o número de subplots\n",
    "fig, axes = plt.subplots(1, num_vars, figsize=(4*num_vars, 3))\n",
    "plt.tight_layout(pad=4, w_pad=10, h_pad=5)\n",
    "fig.suptitle('Distribuição de variáveis qualitativas', fontweight='bold')\n",
    "\n",
    "# Se houver apenas uma variável qualitativa, axes não será uma lista, então trate isso separadamente\n",
    "if num_vars == 1:\n",
    "    axes = [axes]\n",
    "\n",
    "for i, variable in enumerate(qualitative_vars):\n",
    "    order = df[variable].value_counts().index\n",
    "    ax = sns.countplot(\n",
    "        data=df,\n",
    "        x=variable,\n",
    "        ax=axes[i],\n",
    "        color=colors[0],\n",
    "        alpha=0.9,\n",
    "        order=order\n",
    "    )\n",
    "    ax.bar_label(\n",
    "        ax.containers[0],\n",
    "        fmt='%.0f',\n",
    "        label_type='center',\n",
    "        color='white'\n",
    "    )\n",
    "    ax.set(frame_on=False)\n",
    "    ax.axhline(0, color=\"k\", clip_on=False)\n",
    "    ax.set_title(f\"Distribuição da variável '{variable}'\")\n",
    "    ax.set_ylabel('Quantidade')\n",
    "    ax.grid(axis='y', linestyle='-')\n",
    "\n",
    "plt.show()\n"
   ]
  },
  {
   "cell_type": "markdown",
   "metadata": {},
   "source": [
    "_______________________________________________________________________________________________________\n",
    "\n",
    "- A maioria dos clientes que oferecem gorjetas são homens.\n",
    "- Os não fumantes representam a maioria dos clientes que dão gorjeta.\n",
    "- O dia em que o garçom recebe mais gorjetas é no Sábado e o menor é na Sexta-Feira.\n",
    "- O pico de gorjetas é durante o jantar.\n",
    "\n",
    "_______________________________________________________________________________________________________"
   ]
  },
  {
   "cell_type": "markdown",
   "metadata": {},
   "source": [
    "Distribuição das variáveis quantitativa\n"
   ]
  },
  {
   "cell_type": "code",
   "execution_count": 7,
   "metadata": {
    "tags": []
   },
   "outputs": [
    {
     "data": {
      "image/png": "[encoded data removed]",
      "text/plain": [
       "<Figure size 1200x500 with 3 Axes>"
      ]
     },
     "metadata": {},
     "output_type": "display_data"
    }
   ],
   "source": [
    "import matplotlib.pyplot as plt\n",
    "import seaborn as sns\n",
    "\n",
    "# Supondo que 'df', 'dicionario' e 'colors' já estejam definidos\n",
    "quantitative_vars = dicionario.query(\"type == 'quantitativo'\").variable.to_list()\n",
    "num_vars = len(quantitative_vars)\n",
    "\n",
    "# Ajuste o número de subplots\n",
    "fig, axes = plt.subplots(2, 2, figsize=(12, 5))  # Criando uma grade de 2x2 para até 4 variáveis\n",
    "plt.tight_layout(pad=4, w_pad=10, h_pad=5)\n",
    "fig.suptitle('Distribuição de variáveis quantitativas', fontweight='bold')\n",
    "\n",
    "# Se houver menos de 4 variáveis, ajuste a quantidade de subplots\n",
    "if num_vars < 4:\n",
    "    for i in range(num_vars, 4):\n",
    "        fig.delaxes(axes.flatten()[i])\n",
    "\n",
    "for i, variable in enumerate(quantitative_vars):\n",
    "    ax = sns.histplot(\n",
    "        data=df,\n",
    "        x=variable,\n",
    "        ax=axes.flatten()[i],\n",
    "        color=colors[0],\n",
    "        alpha=0.9,\n",
    "    )\n",
    "    ax.set(frame_on=False)\n",
    "    ax.axhline(0, color=\"k\", clip_on=False)\n",
    "    ax.set_title(f\"Distribuição da variável '{variable}'\")\n",
    "    ax.set_xlabel(variable)\n",
    "    ax.set_ylabel('Quantidade')\n",
    "    ax.grid(axis='y', linestyle='-')\n",
    "    # Customize grid to show only vertical lines\n",
    "\n",
    "plt.show()\n"
   ]
  },
  {
   "cell_type": "markdown",
   "metadata": {},
   "source": [
    "_______________________________________________________________________________________________________\n",
    "\n",
    "A partir das visualizações acima podemos dizer que:\n",
    "- A distribuição da variável da conta total tem valores mais frequentes entre 10 a 20 `U$`.\n",
    "- A distribuição da variável de gorjeta tem valores mais frequentes entre 2 a 4 `U$`.\n",
    "- As pessoas que frequentam o local costumam em sua grande maioria visitar em duplas.\n",
    "\n",
    "_______________________________________________________________________________________________________"
   ]
  },
  {
   "cell_type": "markdown",
   "metadata": {},
   "source": [
    "## Existe alguma relação entre o genero e a gorjeta?"
   ]
  },
  {
   "cell_type": "code",
   "execution_count": 16,
   "metadata": {
    "tags": []
   },
   "outputs": [
    {
     "data": {
      "image/png": "[encoded data removed]",
      "text/plain": [
       "<Figure size 800x600 with 1 Axes>"
      ]
     },
     "metadata": {},
     "output_type": "display_data"
    }
   ],
   "source": [
    "plt.figure(figsize=(8, 6))\n",
    "plt.title('Relação entre o sexo e a gorjeta', fontweight='bold')\n",
    "\n",
    "# Criar o boxplot\n",
    "ax = sns.boxplot(\n",
    "    x=\"sex\", \n",
    "    y=\"tip\", \n",
    "    data=df,\n",
    "    palette=\"Set2\"  # Escolhendo a paleta de cores para diferenciar sexos\n",
    ")\n",
    "\n",
    "# Configurar grade\n",
    "ax.grid(axis='y', linestyle='-')\n",
    "\n",
    "# Mostrar o gráfico\n",
    "plt.show()\n"
   ]
  },
  {
   "cell_type": "markdown",
   "metadata": {},
   "source": [
    "_________________________________________________________________________________________________________________________________________________\n",
    "\n",
    "- A partir do gráfico, podemos inferir que há variação nos valores de gorjetas entre homens e mulheres. \n",
    "- Ambos os grupos tem valores atípicos, indicando que existem casos de gorjetas incomumente altas\n",
    "- A mediana das gorjetas parece ser ligeiramente maior para os homens em comparação com as mulheres.\n",
    "_________________________________________________________________________________________________________________________________________________"
   ]
  },
  {
   "cell_type": "markdown",
   "metadata": {},
   "source": [
    "## 4. Insights"
   ]
  },
  {
   "cell_type": "markdown",
   "metadata": {},
   "source": [
    "Com a ajuda das visualizações criadas, bem como da análise em relação ao dicionário de dados, as informações mais relevantes que conseguimos adquirir são:\n",
    "- Homens tem mais tendência em pagar gorjetas.\n",
    "- No jantar é o maior pico.\n",
    "- Sábado é o dia mais frequentado\n"
   ]
  },
  {
   "cell_type": "markdown",
   "metadata": {},
   "source": [
    "## 5. Observação"
   ]
  },
  {
   "cell_type": "markdown",
   "metadata": {
    "tags": []
   },
   "source": [
    "Não é recomendável tirar conclusões precisas a respeito do assunto pois existem fatores externos não analisados na pesquisa que podem interferir nos resultados. Como por exemplo humor do cliente ou o quanto eles ganham, se há algum evento rolando nas proximidades..."
   ]
  },
  {
   "cell_type": "code",
   "execution_count": null,
   "metadata": {},
   "outputs": [],
   "source": []
  }
 ],
 "metadata": {
  "kernelspec": {
   "display_name": "Python 3 (ipykernel)",
   "language": "python",
   "name": "python3"
  },
  "language_info": {
   "codemirror_mode": {
    "name": "ipython",
    "version": 3
   },
   "file_extension": ".py",
   "mimetype": "text/x-python",
   "name": "python",
   "nbconvert_exporter": "python",
   "pygments_lexer": "ipython3",
   "version": "3.10.11"
  },
  "vscode": {
   "interpreter": {
    "hash": "eb3c3305d8b111f0102f4f519c5f17abd113fe74db6752c355e994a9008815ef"
   }
  }
 },
 "nbformat": 4,
 "nbformat_minor": 4
}
