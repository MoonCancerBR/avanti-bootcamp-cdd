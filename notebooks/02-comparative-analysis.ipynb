{
 "cells": [
  {
   "cell_type": "markdown",
   "metadata": {},
   "source": [
    "## Análise comparativa de dados"
   ]
  },
  {
   "cell_type": "code",
   "execution_count": 21,
   "metadata": {},
   "outputs": [],
   "source": [
    "from IPython.display import Image, display, Markdown\n",
    "import numpy as np\n",
    "import pandas as pd\n",
    "import seaborn as sns\n",
    "import matplotlib.pyplot as plt\n",
    "from scipy import stats\n",
    "import jinja2\n",
    "import joblib\n",
    "\n",
    "from sklearn.pipeline import Pipeline\n",
    "from sklearn.impute import SimpleImputer\n",
    "from sklearn.preprocessing import StandardScaler, MinMaxScaler, OneHotEncoder, OrdinalEncoder, LabelEncoder\n",
    "from sklearn.compose import ColumnTransformer\n",
    "from sklearn.linear_model import LogisticRegression\n",
    "\n",
    "from sklearn.neighbors import KNeighborsRegressor\n",
    "from sklearn.model_selection import ShuffleSplit, GridSearchCV, KFold, cross_validate\n",
    "from sklearn.svm import SVR\n",
    "from sklearn.tree import DecisionTreeRegressor\n",
    "from sklearn.ensemble import RandomForestRegressor\n",
    "from sklearn.metrics import make_scorer, mean_absolute_error, mean_squared_error, r2_score\n",
    "\n",
    "from sklearn.neighbors import KNeighborsClassifier\n",
    "from sklearn.svm import SVC\n",
    "from sklearn.tree import DecisionTreeClassifier\n",
    "from sklearn.ensemble import RandomForestClassifier\n"
   ]
  },
  {
   "cell_type": "markdown",
   "metadata": {},
   "source": [
    "## 1. Obtenção de Dados"
   ]
  },
  {
   "cell_type": "markdown",
   "metadata": {},
   "source": [
    "Nessa etapa obtemos novamente os arquivos brutos de dados e o dicionário antes de iniciar o pre-processamento."
   ]
  },
  {
   "cell_type": "code",
   "execution_count": 22,
   "metadata": {},
   "outputs": [
    {
     "data": {
      "text/html": [
       "<div>\n",
       "<style scoped>\n",
       "    .dataframe tbody tr th:only-of-type {\n",
       "        vertical-align: middle;\n",
       "    }\n",
       "\n",
       "    .dataframe tbody tr th {\n",
       "        vertical-align: top;\n",
       "    }\n",
       "\n",
       "    .dataframe thead th {\n",
       "        text-align: right;\n",
       "    }\n",
       "</style>\n",
       "<table border=\"1\" class=\"dataframe\">\n",
       "  <thead>\n",
       "    <tr style=\"text-align: right;\">\n",
       "      <th></th>\n",
       "      <th>variable</th>\n",
       "      <th>description</th>\n",
       "      <th>type</th>\n",
       "      <th>subtype</th>\n",
       "    </tr>\n",
       "  </thead>\n",
       "  <tbody>\n",
       "    <tr>\n",
       "      <th>0</th>\n",
       "      <td>total_bill</td>\n",
       "      <td>total da conta</td>\n",
       "      <td>quantitativo</td>\n",
       "      <td>contínuo</td>\n",
       "    </tr>\n",
       "    <tr>\n",
       "      <th>1</th>\n",
       "      <td>tip</td>\n",
       "      <td>valor da gorjeta</td>\n",
       "      <td>quantitativo</td>\n",
       "      <td>contínuo</td>\n",
       "    </tr>\n",
       "    <tr>\n",
       "      <th>2</th>\n",
       "      <td>sex</td>\n",
       "      <td>sexo do pagador</td>\n",
       "      <td>qualitativo</td>\n",
       "      <td>nominal</td>\n",
       "    </tr>\n",
       "    <tr>\n",
       "      <th>3</th>\n",
       "      <td>smoker</td>\n",
       "      <td>há fumantes ?</td>\n",
       "      <td>qualitativo</td>\n",
       "      <td>nominal</td>\n",
       "    </tr>\n",
       "    <tr>\n",
       "      <th>4</th>\n",
       "      <td>day</td>\n",
       "      <td>dia da semana</td>\n",
       "      <td>qualitativo</td>\n",
       "      <td>ordinal</td>\n",
       "    </tr>\n",
       "    <tr>\n",
       "      <th>5</th>\n",
       "      <td>time</td>\n",
       "      <td>horário do dia</td>\n",
       "      <td>qualitativo</td>\n",
       "      <td>nominal</td>\n",
       "    </tr>\n",
       "    <tr>\n",
       "      <th>6</th>\n",
       "      <td>size</td>\n",
       "      <td>tamanho do grupo</td>\n",
       "      <td>quantitativo</td>\n",
       "      <td>discreto</td>\n",
       "    </tr>\n",
       "  </tbody>\n",
       "</table>\n",
       "</div>"
      ],
      "text/plain": [
       "     variable       description          type   subtype\n",
       "0  total_bill    total da conta  quantitativo  contínuo\n",
       "1         tip  valor da gorjeta  quantitativo  contínuo\n",
       "2         sex   sexo do pagador   qualitativo   nominal\n",
       "3      smoker     há fumantes ?   qualitativo   nominal\n",
       "4         day     dia da semana   qualitativo   ordinal\n",
       "5        time    horário do dia   qualitativo   nominal\n",
       "6        size  tamanho do grupo  quantitativo  discreto"
      ]
     },
     "execution_count": 22,
     "metadata": {},
     "output_type": "execute_result"
    }
   ],
   "source": [
    "df = pd.read_csv(\"../data/raw/data.csv\")\n",
    "df_dict = pd.read_csv(\"../data/external/dictonary.csv\")\n",
    "df_dict"
   ]
  },
  {
   "cell_type": "markdown",
   "metadata": {},
   "source": [
    "## 2. Preparação de Dados"
   ]
  },
  {
   "cell_type": "markdown",
   "metadata": {},
   "source": [
    "Aqui realizamos a normalização, codificação e o tratamento de dados discrepantes e/ou faltantes dentro do conjunto de dados."
   ]
  },
  {
   "cell_type": "markdown",
   "metadata": {},
   "source": [
    "--Dados Faltantes\n",
    "\n",
    "Como anteriormente dito na analise exploratoria, não há colunas com dados faltantes:"
   ]
  },
  {
   "cell_type": "code",
   "execution_count": 23,
   "metadata": {},
   "outputs": [
    {
     "data": {
      "text/plain": [
       "total_bill    0\n",
       "tip           0\n",
       "sex           0\n",
       "smoker        0\n",
       "day           0\n",
       "time          0\n",
       "size          0\n",
       "dtype: int64"
      ]
     },
     "execution_count": 23,
     "metadata": {},
     "output_type": "execute_result"
    }
   ],
   "source": [
    "df.isnull().sum()"
   ]
  },
  {
   "cell_type": "code",
   "execution_count": 24,
   "metadata": {},
   "outputs": [],
   "source": [
    "target_column = 'tip'\n",
    "nominal_columns = (\n",
    "    df_dict\n",
    "    .query(\"subtype == 'nominal' and variable != @target_column\")\n",
    "    .variable\n",
    "    .to_list()\n",
    ")\n",
    "continuous_columns = (\n",
    "    df_dict\n",
    "    .query(\"subtype == 'continuo'\")\n",
    "    .variable\n",
    "    .to_list()\n",
    ")\n",
    "continuous_columns = (\n",
    "    df_dict\n",
    "    .query(\"subtype == 'continuo'\")\n",
    "    .variable\n",
    "    .to_list()\n",
    ")\n",
    "ordinal_columns = (\n",
    "    df_dict\n",
    "    .query(\"subtype == 'ordinal'\")\n",
    "    .variable\n",
    "    .to_list()\n",
    ")\n",
    "discrete_columns = (\n",
    "    df_dict\n",
    "    .query(\"subtype == 'discreto'\")\n",
    "    .variable\n",
    "    .to_list()\n",
    ")\n",
    "\n",
    "X = df.drop(columns=[target_column], axis=1)\n",
    "y = df[target_column]"
   ]
  },
  {
   "cell_type": "code",
   "execution_count": 25,
   "metadata": {},
   "outputs": [],
   "source": [
    "# tratamento de dados discrepantes\n",
    "nominal_preprocessor = Pipeline([\n",
    "    ('missing', SimpleImputer(strategy='most_frequent')), # tratamento de dados faltantes\n",
    "    ('encoding', OneHotEncoder(sparse_output=False, drop='first')), # codificação de variáveis\n",
    "    ('normalization', StandardScaler()) # normalização de dados\n",
    "])\n",
    "continuous_preprocessor = Pipeline([\n",
    "    ('missing', SimpleImputer(strategy='mean')), # tratamento de dados faltantes\n",
    "    ('normalization', StandardScaler()) # normalização de dados\n",
    "])\n",
    "\n",
    "preprocessor = ColumnTransformer([\n",
    "    ('nominal', nominal_preprocessor, nominal_columns),\n",
    "    ('continuous', continuous_preprocessor, continuous_columns)\n",
    "])\n",
    "\n",
    "model = LogisticRegression()"
   ]
  },
  {
   "cell_type": "markdown",
   "metadata": {},
   "source": [
    "## 3. Seleção de Modelos"
   ]
  },
  {
   "cell_type": "markdown",
   "metadata": {},
   "source": [
    "Iremos análisar três modelos, que serão testados utilizando um método de validação, a saber:\n",
    "\n",
    "- K-Nearest-Neighbors\n",
    "- Decision Tree\n",
    "- Random Forest\n",
    "\n",
    "Além disso, cada um desses algoritmos será testado com diferentes hiper-parametros, para que possamos encontrar o melhor modelo e a melhor configuração possível para esse modelo.\n",
    "\n",
    "Utilizaremos as seguintes métricas para análise:\n",
    "\n",
    "- Acurácia (accuracy): proporção entre os dados que foram corretamente previstos (como positivos ou negativos) com o total de dados observados;\n",
    "- Precisão (precision): proporção entre dados corretamente previstos como positivos e o total de observações positivas.\n",
    "- Recall: proporção entre dados corretamente previstos como positivos com o total de observações.\n",
    "- F1-score: média entre precision e recall, portanto levando em conta tanto falsos positivos quanto falsos negativos."
   ]
  },
  {
   "cell_type": "code",
   "execution_count": 26,
   "metadata": {},
   "outputs": [],
   "source": [
    "# experiment settings\n",
    "n_splits_comparative_analysis = 10\n",
    "n_folds_grid_search = 5\n",
    "test_size = .3\n",
    "random_state = 0\n",
    "metrics = {\n",
    "    'MAE': make_scorer(mean_absolute_error),\n",
    "    'MSE': make_scorer(mean_squared_error),\n",
    "    'R2': make_scorer(r2_score)\n",
    "}\n",
    "\n",
    "# model settings\n",
    "max_iter = 1000000\n",
    "models = [\n",
    "    ('K-Nearest Neighbors', KNeighborsRegressor(), {\"n_neighbors\": range(3, 20, 2), 'weights': ['uniform', 'distance']}),\n",
    "    ('Decision Tree',  DecisionTreeRegressor(random_state=random_state), {'criterion':['squared_error', 'friedman_mse'],'max_depth': [3, 25, 40]}),\n",
    "    ('Random Forest',  RandomForestRegressor(random_state=random_state), {'criterion':['squared_error', 'friedman_mse'],'max_depth': [3, 25, 40], 'n_estimators': [10, 50]}),\n",
    "]"
   ]
  },
  {
   "cell_type": "code",
   "execution_count": 27,
   "metadata": {},
   "outputs": [
    {
     "name": "stdout",
     "output_type": "stream",
     "text": [
      "running K-Nearest Neighbors...\n"
     ]
    },
    {
     "data": {
      "text/html": [
       "<div>\n",
       "<style scoped>\n",
       "    .dataframe tbody tr th:only-of-type {\n",
       "        vertical-align: middle;\n",
       "    }\n",
       "\n",
       "    .dataframe tbody tr th {\n",
       "        vertical-align: top;\n",
       "    }\n",
       "\n",
       "    .dataframe thead th {\n",
       "        text-align: right;\n",
       "    }\n",
       "</style>\n",
       "<table border=\"1\" class=\"dataframe\">\n",
       "  <thead>\n",
       "    <tr style=\"text-align: right;\">\n",
       "      <th></th>\n",
       "      <th>fit_time</th>\n",
       "      <th>score_time</th>\n",
       "      <th>test_MAE</th>\n",
       "      <th>test_MSE</th>\n",
       "      <th>test_R2</th>\n",
       "    </tr>\n",
       "  </thead>\n",
       "  <tbody>\n",
       "    <tr>\n",
       "      <th>mean</th>\n",
       "      <td>0.347325</td>\n",
       "      <td>0.006291</td>\n",
       "      <td>1.101923</td>\n",
       "      <td>2.221517</td>\n",
       "      <td>-0.065936</td>\n",
       "    </tr>\n",
       "    <tr>\n",
       "      <th>std</th>\n",
       "      <td>0.169068</td>\n",
       "      <td>0.004567</td>\n",
       "      <td>0.096805</td>\n",
       "      <td>0.550068</td>\n",
       "      <td>0.066995</td>\n",
       "    </tr>\n",
       "  </tbody>\n",
       "</table>\n",
       "</div>"
      ],
      "text/plain": [
       "      fit_time  score_time  test_MAE  test_MSE   test_R2\n",
       "mean  0.347325    0.006291  1.101923  2.221517 -0.065936\n",
       "std   0.169068    0.004567  0.096805  0.550068  0.066995"
      ]
     },
     "metadata": {},
     "output_type": "display_data"
    },
    {
     "name": "stdout",
     "output_type": "stream",
     "text": [
      "running Decision Tree...\n"
     ]
    },
    {
     "data": {
      "text/html": [
       "<div>\n",
       "<style scoped>\n",
       "    .dataframe tbody tr th:only-of-type {\n",
       "        vertical-align: middle;\n",
       "    }\n",
       "\n",
       "    .dataframe tbody tr th {\n",
       "        vertical-align: top;\n",
       "    }\n",
       "\n",
       "    .dataframe thead th {\n",
       "        text-align: right;\n",
       "    }\n",
       "</style>\n",
       "<table border=\"1\" class=\"dataframe\">\n",
       "  <thead>\n",
       "    <tr style=\"text-align: right;\">\n",
       "      <th></th>\n",
       "      <th>fit_time</th>\n",
       "      <th>score_time</th>\n",
       "      <th>test_MAE</th>\n",
       "      <th>test_MSE</th>\n",
       "      <th>test_R2</th>\n",
       "    </tr>\n",
       "  </thead>\n",
       "  <tbody>\n",
       "    <tr>\n",
       "      <th>mean</th>\n",
       "      <td>0.074765</td>\n",
       "      <td>0.003472</td>\n",
       "      <td>1.089500</td>\n",
       "      <td>2.191843</td>\n",
       "      <td>-0.050567</td>\n",
       "    </tr>\n",
       "    <tr>\n",
       "      <th>std</th>\n",
       "      <td>0.009103</td>\n",
       "      <td>0.001004</td>\n",
       "      <td>0.086187</td>\n",
       "      <td>0.551734</td>\n",
       "      <td>0.043123</td>\n",
       "    </tr>\n",
       "  </tbody>\n",
       "</table>\n",
       "</div>"
      ],
      "text/plain": [
       "      fit_time  score_time  test_MAE  test_MSE   test_R2\n",
       "mean  0.074765    0.003472  1.089500  2.191843 -0.050567\n",
       "std   0.009103    0.001004  0.086187  0.551734  0.043123"
      ]
     },
     "metadata": {},
     "output_type": "display_data"
    },
    {
     "name": "stdout",
     "output_type": "stream",
     "text": [
      "running Random Forest...\n"
     ]
    },
    {
     "data": {
      "text/html": [
       "<div>\n",
       "<style scoped>\n",
       "    .dataframe tbody tr th:only-of-type {\n",
       "        vertical-align: middle;\n",
       "    }\n",
       "\n",
       "    .dataframe tbody tr th {\n",
       "        vertical-align: top;\n",
       "    }\n",
       "\n",
       "    .dataframe thead th {\n",
       "        text-align: right;\n",
       "    }\n",
       "</style>\n",
       "<table border=\"1\" class=\"dataframe\">\n",
       "  <thead>\n",
       "    <tr style=\"text-align: right;\">\n",
       "      <th></th>\n",
       "      <th>fit_time</th>\n",
       "      <th>score_time</th>\n",
       "      <th>test_MAE</th>\n",
       "      <th>test_MSE</th>\n",
       "      <th>test_R2</th>\n",
       "    </tr>\n",
       "  </thead>\n",
       "  <tbody>\n",
       "    <tr>\n",
       "      <th>mean</th>\n",
       "      <td>1.516379</td>\n",
       "      <td>0.004120</td>\n",
       "      <td>1.092872</td>\n",
       "      <td>2.200429</td>\n",
       "      <td>-0.055008</td>\n",
       "    </tr>\n",
       "    <tr>\n",
       "      <th>std</th>\n",
       "      <td>0.115753</td>\n",
       "      <td>0.001125</td>\n",
       "      <td>0.086992</td>\n",
       "      <td>0.547184</td>\n",
       "      <td>0.039989</td>\n",
       "    </tr>\n",
       "  </tbody>\n",
       "</table>\n",
       "</div>"
      ],
      "text/plain": [
       "      fit_time  score_time  test_MAE  test_MSE   test_R2\n",
       "mean  1.516379    0.004120  1.092872  2.200429 -0.055008\n",
       "std   0.115753    0.001125  0.086992  0.547184  0.039989"
      ]
     },
     "metadata": {},
     "output_type": "display_data"
    }
   ],
   "source": [
    "results = pd.DataFrame({})\n",
    "cross_validate_grid_search = KFold(n_splits=n_folds_grid_search)\n",
    "cross_validate_comparative_analysis = ShuffleSplit(n_splits=n_splits_comparative_analysis, test_size=test_size, random_state=random_state)\n",
    "for model_name, model_object, model_parameters in models:\n",
    "    print(f\"running {model_name}...\")\n",
    "    model_grid_search = GridSearchCV(\n",
    "        estimator=model_object,\n",
    "        param_grid=model_parameters,\n",
    "        scoring='neg_mean_absolute_error',\n",
    "        n_jobs=2,\n",
    "        cv=cross_validate_grid_search\n",
    "    )\n",
    "    approach = Pipeline(steps=[\n",
    "        ('preprocessor', preprocessor),\n",
    "        ('model', model_grid_search)\n",
    "    ])\n",
    "    scores = cross_validate(\n",
    "        estimator=approach,\n",
    "        X=X,\n",
    "        y=y,\n",
    "        cv=cross_validate_comparative_analysis,\n",
    "        n_jobs=2,\n",
    "        scoring=metrics,\n",
    "        return_train_score=False\n",
    "    )\n",
    "    scores['model_name'] = [model_name] * n_splits_comparative_analysis\n",
    "    df_scores = pd.DataFrame(scores)\n",
    "    df_scores =  df_scores.drop(columns=['model_name'])\n",
    "    df_scores = df_scores.agg(['mean', 'std'])\n",
    "    display(df_scores)\n",
    "    results = pd.concat([results, pd.DataFrame(scores)], ignore_index=True)"
   ]
  },
  {
   "cell_type": "code",
   "execution_count": 28,
   "metadata": {},
   "outputs": [
    {
     "data": {
      "text/markdown": [
       "### 3.1 Resultados gerais"
      ],
      "text/plain": [
       "<IPython.core.display.Markdown object>"
      ]
     },
     "metadata": {},
     "output_type": "display_data"
    },
    {
     "data": {
      "text/html": [
       "<style type=\"text/css\">\n",
       "#T_1a048 td {\n",
       "  text-align: center;\n",
       "}\n",
       "#T_1a048_row0_col0, #T_1a048_row2_col0, #T_1a048_row4_col1, #T_1a048_row6_col1, #T_1a048_row8_col0 {\n",
       "  color: white;\n",
       "  background-color: gray;\n",
       "  font-weight: bold;\n",
       "}\n",
       "</style>\n",
       "<table id=\"T_1a048\">\n",
       "  <thead>\n",
       "    <tr>\n",
       "      <th class=\"blank\" >&nbsp;</th>\n",
       "      <th class=\"index_name level0\" >model_name</th>\n",
       "      <th id=\"T_1a048_level0_col0\" class=\"col_heading level0 col0\" >Decision Tree</th>\n",
       "      <th id=\"T_1a048_level0_col1\" class=\"col_heading level0 col1\" >K-Nearest Neighbors</th>\n",
       "      <th id=\"T_1a048_level0_col2\" class=\"col_heading level0 col2\" >Random Forest</th>\n",
       "    </tr>\n",
       "  </thead>\n",
       "  <tbody>\n",
       "    <tr>\n",
       "      <th id=\"T_1a048_level0_row0\" class=\"row_heading level0 row0\" rowspan=\"2\">fit_time</th>\n",
       "      <th id=\"T_1a048_level1_row0\" class=\"row_heading level1 row0\" >mean</th>\n",
       "      <td id=\"T_1a048_row0_col0\" class=\"data row0 col0\" >0.074765</td>\n",
       "      <td id=\"T_1a048_row0_col1\" class=\"data row0 col1\" >0.347325</td>\n",
       "      <td id=\"T_1a048_row0_col2\" class=\"data row0 col2\" >1.516379</td>\n",
       "    </tr>\n",
       "    <tr>\n",
       "      <th id=\"T_1a048_level1_row1\" class=\"row_heading level1 row1\" >std</th>\n",
       "      <td id=\"T_1a048_row1_col0\" class=\"data row1 col0\" >0.009103</td>\n",
       "      <td id=\"T_1a048_row1_col1\" class=\"data row1 col1\" >0.169068</td>\n",
       "      <td id=\"T_1a048_row1_col2\" class=\"data row1 col2\" >0.115753</td>\n",
       "    </tr>\n",
       "    <tr>\n",
       "      <th id=\"T_1a048_level0_row2\" class=\"row_heading level0 row2\" rowspan=\"2\">score_time</th>\n",
       "      <th id=\"T_1a048_level1_row2\" class=\"row_heading level1 row2\" >mean</th>\n",
       "      <td id=\"T_1a048_row2_col0\" class=\"data row2 col0\" >0.003472</td>\n",
       "      <td id=\"T_1a048_row2_col1\" class=\"data row2 col1\" >0.006291</td>\n",
       "      <td id=\"T_1a048_row2_col2\" class=\"data row2 col2\" >0.004120</td>\n",
       "    </tr>\n",
       "    <tr>\n",
       "      <th id=\"T_1a048_level1_row3\" class=\"row_heading level1 row3\" >std</th>\n",
       "      <td id=\"T_1a048_row3_col0\" class=\"data row3 col0\" >0.001004</td>\n",
       "      <td id=\"T_1a048_row3_col1\" class=\"data row3 col1\" >0.004567</td>\n",
       "      <td id=\"T_1a048_row3_col2\" class=\"data row3 col2\" >0.001125</td>\n",
       "    </tr>\n",
       "    <tr>\n",
       "      <th id=\"T_1a048_level0_row4\" class=\"row_heading level0 row4\" rowspan=\"2\">test_MAE</th>\n",
       "      <th id=\"T_1a048_level1_row4\" class=\"row_heading level1 row4\" >mean</th>\n",
       "      <td id=\"T_1a048_row4_col0\" class=\"data row4 col0\" >1.089500</td>\n",
       "      <td id=\"T_1a048_row4_col1\" class=\"data row4 col1\" >1.101923</td>\n",
       "      <td id=\"T_1a048_row4_col2\" class=\"data row4 col2\" >1.092872</td>\n",
       "    </tr>\n",
       "    <tr>\n",
       "      <th id=\"T_1a048_level1_row5\" class=\"row_heading level1 row5\" >std</th>\n",
       "      <td id=\"T_1a048_row5_col0\" class=\"data row5 col0\" >0.086187</td>\n",
       "      <td id=\"T_1a048_row5_col1\" class=\"data row5 col1\" >0.096805</td>\n",
       "      <td id=\"T_1a048_row5_col2\" class=\"data row5 col2\" >0.086992</td>\n",
       "    </tr>\n",
       "    <tr>\n",
       "      <th id=\"T_1a048_level0_row6\" class=\"row_heading level0 row6\" rowspan=\"2\">test_MSE</th>\n",
       "      <th id=\"T_1a048_level1_row6\" class=\"row_heading level1 row6\" >mean</th>\n",
       "      <td id=\"T_1a048_row6_col0\" class=\"data row6 col0\" >2.191843</td>\n",
       "      <td id=\"T_1a048_row6_col1\" class=\"data row6 col1\" >2.221517</td>\n",
       "      <td id=\"T_1a048_row6_col2\" class=\"data row6 col2\" >2.200429</td>\n",
       "    </tr>\n",
       "    <tr>\n",
       "      <th id=\"T_1a048_level1_row7\" class=\"row_heading level1 row7\" >std</th>\n",
       "      <td id=\"T_1a048_row7_col0\" class=\"data row7 col0\" >0.551734</td>\n",
       "      <td id=\"T_1a048_row7_col1\" class=\"data row7 col1\" >0.550068</td>\n",
       "      <td id=\"T_1a048_row7_col2\" class=\"data row7 col2\" >0.547184</td>\n",
       "    </tr>\n",
       "    <tr>\n",
       "      <th id=\"T_1a048_level0_row8\" class=\"row_heading level0 row8\" rowspan=\"2\">test_R2</th>\n",
       "      <th id=\"T_1a048_level1_row8\" class=\"row_heading level1 row8\" >mean</th>\n",
       "      <td id=\"T_1a048_row8_col0\" class=\"data row8 col0\" >-0.050567</td>\n",
       "      <td id=\"T_1a048_row8_col1\" class=\"data row8 col1\" >-0.065936</td>\n",
       "      <td id=\"T_1a048_row8_col2\" class=\"data row8 col2\" >-0.055008</td>\n",
       "    </tr>\n",
       "    <tr>\n",
       "      <th id=\"T_1a048_level1_row9\" class=\"row_heading level1 row9\" >std</th>\n",
       "      <td id=\"T_1a048_row9_col0\" class=\"data row9 col0\" >0.043123</td>\n",
       "      <td id=\"T_1a048_row9_col1\" class=\"data row9 col1\" >0.066995</td>\n",
       "      <td id=\"T_1a048_row9_col2\" class=\"data row9 col2\" >0.039989</td>\n",
       "    </tr>\n",
       "  </tbody>\n",
       "</table>\n"
      ],
      "text/plain": [
       "<pandas.io.formats.style.Styler at 0x2bae9e0a090>"
      ]
     },
     "execution_count": 28,
     "metadata": {},
     "output_type": "execute_result"
    }
   ],
   "source": [
    "def highlight_best(s, props=''):\n",
    "    if s.name[1] != 'std':\n",
    "        if s.name[0].endswith('time'):\n",
    "            return np.where(s == np.nanmin(s.values), props, '')\n",
    "        return np.where(s == np.nanmax(s.values), props, '')\n",
    "\n",
    "display(Markdown(\"### 3.1 Resultados gerais\"))\n",
    "(\n",
    "    results\n",
    "    .groupby('model_name')\n",
    "    .agg(['mean', 'std']).T\n",
    "    .style\n",
    "    .apply(highlight_best, props='color:white;background-color:gray;font-weight: bold;', axis=1)\n",
    "    .set_table_styles([{'selector': 'td', 'props': 'text-align: center;'}])\n",
    ")"
   ]
  },
  {
   "cell_type": "markdown",
   "metadata": {},
   "source": [
    "Como pode ser visto, o classificador Decision Tree obteve melhores resultados para todas as métricas, portanto, podemos obter os melhores parâmetros deste modelo e salvá-lo em disco para utilização em uma próxima etapa."
   ]
  },
  {
   "cell_type": "markdown",
   "metadata": {},
   "source": [
    "## 3.2 Persistencia do modelo"
   ]
  },
  {
   "cell_type": "code",
   "execution_count": 29,
   "metadata": {},
   "outputs": [
    {
     "name": "stdout",
     "output_type": "stream",
     "text": [
      "Hiper parâmetros do modelo: {'criterion': 'squared_error', 'max_depth': 3}\n"
     ]
    }
   ],
   "source": [
    "# Obtem o modelo e os parametros ganhadores\n",
    "model_name, model_object, model_parameters  = [foo for foo in models if foo[0] == \"Decision Tree\"][0] \n",
    "\n",
    "model_grid_search = GridSearchCV(\n",
    "        estimator=model_object,\n",
    "        param_grid=model_parameters,\n",
    "        scoring='neg_mean_absolute_error',\n",
    "        n_jobs=None,\n",
    "        cv=cross_validate_grid_search\n",
    "    )\n",
    "\n",
    "approach = Pipeline([\n",
    "    (\"preprocessor\", preprocessor),\n",
    "    (\"model\", model_grid_search)\n",
    "])\n",
    "\n",
    "approach.fit(X, y) #Seleciona o approach\n",
    "\n",
    "print(f\"Hiper parâmetros do modelo: {approach.steps[1][1].best_params_}\")"
   ]
  },
  {
   "cell_type": "code",
   "execution_count": 31,
   "metadata": {},
   "outputs": [
    {
     "data": {
      "text/plain": [
       "['../models/model.joblib']"
      ]
     },
     "execution_count": 31,
     "metadata": {},
     "output_type": "execute_result"
    }
   ],
   "source": [
    "joblib.dump(approach, '../models/model.joblib') # Salva o modelo em disco."
   ]
  },
  {
   "cell_type": "code",
   "execution_count": null,
   "metadata": {},
   "outputs": [],
   "source": []
  }
 ],
 "metadata": {
  "kernelspec": {
   "display_name": "Python 3",
   "language": "python",
   "name": "python3"
  },
  "language_info": {
   "codemirror_mode": {
    "name": "ipython",
    "version": 3
   },
   "file_extension": ".py",
   "mimetype": "text/x-python",
   "name": "python",
   "nbconvert_exporter": "python",
   "pygments_lexer": "ipython3",
   "version": "3.11.9"
  }
 },
 "nbformat": 4,
 "nbformat_minor": 2
}
